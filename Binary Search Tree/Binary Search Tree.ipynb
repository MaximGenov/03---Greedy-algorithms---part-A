{
 "cells": [
  {
   "cell_type": "code",
   "execution_count": 1,
   "metadata": {},
   "outputs": [],
   "source": [
    "class Node:\n",
    "    \n",
    "    #\n",
    "    # default constructor for tree node:\n",
    "    # instantiates a node with given content and no children \n",
    "    def __init__(self, content):\n",
    "        self.left = None\n",
    "        self.right = None\n",
    "        self.content = content\n",
    "        \n",
    "    # \n",
    "    # Method to insert data into the tree; content is placed\n",
    "    # to the left or right of parent node, based on comparisons\n",
    "    # (smaller to the left, larger to the right.) The method\n",
    "    # traverses the tree recursively until an empty spot is found.\n",
    "    def insert(self, content):\n",
    "        if self.content:                        # current node not empty\n",
    "            if content < self.content:          # new value less than current node value\n",
    "                if self.left is None:           # if left child null\n",
    "                    self.left = Node(content)   #   place new value here\n",
    "                else:                           # if left child not null\n",
    "                    self.left.insert(content)   #   recurse to the left\n",
    "            elif content > self.content:        # new value more than current node value\n",
    "                if self.right is None:          # if right child null\n",
    "                    self.right = Node(content)  #   place new value here\n",
    "                else:                           # if right child not null\n",
    "                    self.right.insert(content)  # recurse to the right\n",
    "        else:                                   # hey! current node is null!\n",
    "            self.content = content              #   place new value here.\n",
    "    \n",
    "    def inOrderTraversal(self):\n",
    "        if self.left:\n",
    "            self.left.inOrderTraversal()\n",
    "        print(self.content),\n",
    "        if self.right:\n",
    "            self.right.inOrderTraversal()\n",
    "            \n",
    "    def contains(self, searchFor):\n",
    "        if searchFor < self.content:\n",
    "            if self.left is None:\n",
    "                return str(searchFor) + \" not found.\"\n",
    "            return self.left.contains(searchFor)\n",
    "        elif searchFor > self.content:\n",
    "            if self.right is None:\n",
    "                return str(searchFor) + \" not found.\"\n",
    "            return self.right.contains(searchFor)\n",
    "        else:\n",
    "            print (str(self.content) + \" found!\")"
   ]
  },
  {
   "cell_type": "code",
   "execution_count": 2,
   "metadata": {},
   "outputs": [],
   "source": [
    "root = Node('Kilo')\n",
    "root.insert('B')\n",
    "root.insert('R')"
   ]
  },
  {
   "cell_type": "code",
   "execution_count": 3,
   "metadata": {},
   "outputs": [
    {
     "name": "stdout",
     "output_type": "stream",
     "text": [
      "B\n",
      "Kilo\n",
      "R\n"
     ]
    }
   ],
   "source": [
    "root.inOrderTraversal()"
   ]
  },
  {
   "cell_type": "code",
   "execution_count": 4,
   "metadata": {},
   "outputs": [
    {
     "name": "stdout",
     "output_type": "stream",
     "text": [
      "B found!\n"
     ]
    }
   ],
   "source": [
    "root.contains('B')"
   ]
  },
  {
   "cell_type": "code",
   "execution_count": 5,
   "metadata": {},
   "outputs": [],
   "source": [
    "root.insert('B')"
   ]
  },
  {
   "cell_type": "code",
   "execution_count": 6,
   "metadata": {},
   "outputs": [
    {
     "name": "stdout",
     "output_type": "stream",
     "text": [
      "B\n",
      "Kilo\n",
      "R\n"
     ]
    }
   ],
   "source": [
    "root.inOrderTraversal()"
   ]
  },
  {
   "cell_type": "code",
   "execution_count": null,
   "metadata": {},
   "outputs": [],
   "source": []
  }
 ],
 "metadata": {
  "kernelspec": {
   "display_name": "Python 3",
   "language": "python",
   "name": "python3"
  },
  "language_info": {
   "codemirror_mode": {
    "name": "ipython",
    "version": 3
   },
   "file_extension": ".py",
   "mimetype": "text/x-python",
   "name": "python",
   "nbconvert_exporter": "python",
   "pygments_lexer": "ipython3",
   "version": "3.7.7"
  }
 },
 "nbformat": 4,
 "nbformat_minor": 4
}
