{
 "cells": [
  {
   "cell_type": "code",
   "execution_count": 11,
   "metadata": {},
   "outputs": [],
   "source": [
    "class Node:\n",
    "    \n",
    "    def __init__(self, content):\n",
    "        self.left = None\n",
    "        self.right = None\n",
    "        self.content = content\n",
    "\n",
    "        \n",
    "    def insert(self, content):\n",
    "        if self.content:\n",
    "            if content < self.content:\n",
    "                if self.left is None:\n",
    "                    self.left = Node(content)\n",
    "                else:\n",
    "                    self.left.insert(content)\n",
    "            elif content > self.content:\n",
    "                if self.right is None:\n",
    "                    self.right = Node(content)\n",
    "                else:\n",
    "                    self.right.insert(content)\n",
    "        else:\n",
    "            self.content = content\n",
    "    \n",
    "    def inOrderTraversal(self):\n",
    "        if self.left:\n",
    "            self.left.inOrderTraversal()\n",
    "        print( self.content),\n",
    "        if self.right:\n",
    "            self.right.inOrderTraversal()"
   ]
  },
  {
   "cell_type": "code",
   "execution_count": 12,
   "metadata": {},
   "outputs": [],
   "source": [
    "root = Node(50)"
   ]
  },
  {
   "cell_type": "code",
   "execution_count": 13,
   "metadata": {},
   "outputs": [],
   "source": [
    "root.insert(10\n",
    "        )"
   ]
  },
  {
   "cell_type": "code",
   "execution_count": null,
   "metadata": {},
   "outputs": [],
   "source": []
  }
 ],
 "metadata": {
  "kernelspec": {
   "display_name": "Python 3",
   "language": "python",
   "name": "python3"
  },
  "language_info": {
   "codemirror_mode": {
    "name": "ipython",
    "version": 3
   },
   "file_extension": ".py",
   "mimetype": "text/x-python",
   "name": "python",
   "nbconvert_exporter": "python",
   "pygments_lexer": "ipython3",
   "version": "3.7.7"
  }
 },
 "nbformat": 4,
 "nbformat_minor": 4
}
