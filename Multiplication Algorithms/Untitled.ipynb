{
 "cells": [
  {
   "cell_type": "code",
   "execution_count": 13,
   "metadata": {},
   "outputs": [],
   "source": [
    "def zeroPad(numberString, zeros, left = True):\n",
    "    \"\"\"Return the string with zeros added to the left or right.\"\"\"\n",
    "    for i in range(zeros):\n",
    "        if left:\n",
    "            numberString = '0' + numberString\n",
    "        else:\n",
    "            numberString = numberString + '0'\n",
    "    return numberString\n",
    "\n",
    "def gradeSchoolMultiplication(x, y):\n",
    "    \"\"\"Multiply two integers using the grade-school algorithm.\"\"\"\n",
    "    #convert to strings for easy access to digits\n",
    "    x = str(x)\n",
    "    y = str(y)\n",
    "    #keep track of number of zeros required to pad partial multiplications\n",
    "    zeroPadding = 0\n",
    "    #sum the partial multiplications as we go\n",
    "    partialSum = 0\n",
    "    #loop over each digit in the second number\n",
    "    for i in range(len(y) -1, -1, -1):\n",
    "        #keep track of carry for multiplications resulting in answers > 9        \n",
    "        carry = 0\n",
    "        #partial multiplication answer as a string for easier manipulation\n",
    "        partial = ''\n",
    "        #pad with zeros on the right\n",
    "        partial = zeroPad(partial, zeroPadding, False)\n",
    "        #loop over each digit in the first number\n",
    "        for j in range(len(x) -1, -1, -1):\n",
    "            z = int(y[i])*int(x[j])\n",
    "            z += carry\n",
    "            #convert to string for easier manipulation\n",
    "            z = str(z)\n",
    "            #keep track of carry when answer > 9\n",
    "            if len(z) > 1:\n",
    "                carry = int(z[0])\n",
    "            else:\n",
    "                carry = 0\n",
    "            #concatenate final answer to the left of partial string    \n",
    "            partial = z[len(z) -1] + partial\n",
    "        #if there's any carry left at the end concatenate to partial string\n",
    "        if carry > 0:\n",
    "            partial = str(carry) + partial\n",
    "        #sum the partials as you go        \n",
    "        partialSum += int(partial)\n",
    "        #for the next digit of the second number we need another zero to the right\n",
    "        zeroPadding += 1\n",
    "    return partialSum\n",
    "\n",
    "\n",
    "def karatsubaMultiplication(x ,y):\n",
    "    \"\"\"Multiply two integers using Karatsuba's algorithm.\"\"\"\n",
    "    #convert to strings for easy access to digits\n",
    "    x = str(x)\n",
    "    y = str(y)\n",
    "    #base case for recursion\n",
    "    if len(x) == 1 and len(y) == 1:\n",
    "        return int(x) * int(y)\n",
    "    if len(x) < len(y):\n",
    "        x = zeroPad(x, len(y) - len(x))\n",
    "    elif len(y) < len(x):\n",
    "        y = zeroPad(y, len(x) - len(y))\n",
    "    n = len(x)\n",
    "    j = n//2\n",
    "    #for odd digit integers\n",
    "    if (n % 2) != 0:\n",
    "        j += 1    \n",
    "    BZeroPadding = n - j\n",
    "    AZeroPadding = BZeroPadding * 2\n",
    "    a = int(x[:j])\n",
    "    b = int(x[j:])\n",
    "    c = int(y[:j])\n",
    "    d = int(y[j:])\n",
    "    #recursively calculate\n",
    "    ac = karatsubaMultiplication(a, c)\n",
    "    bd = karatsubaMultiplication(b, d)\n",
    "    k = karatsubaMultiplication(a + b, c + d)\n",
    "    A = int(zeroPad(str(ac), AZeroPadding, False))\n",
    "    B = int(zeroPad(str(k - ac - bd), BZeroPadding, False))\n",
    "    return A + B + bd"
   ]
  },
  {
   "cell_type": "code",
   "execution_count": 33,
   "metadata": {},
   "outputs": [],
   "source": [
    "a = 1089812718915\n",
    "b = 7781209055915"
   ]
  },
  {
   "cell_type": "code",
   "execution_count": 34,
   "metadata": {},
   "outputs": [
    {
     "name": "stdout",
     "output_type": "stream",
     "text": [
      "   Karatsuba time:  1.4724972248077393\n",
      "Grade school time:  0.7672147750854492\n"
     ]
    }
   ],
   "source": [
    "import time             # Package with access to coc\n",
    "testUpTo = 5000\n",
    "\n",
    "n = 0\n",
    "startTime = time.time()\n",
    "while n < testUpTo:\n",
    "    karatsubaMultiplication(a,b)\n",
    "    n = n + 1\n",
    "karatsubaTime = time.time() - startTime\n",
    "\n",
    "n = 0\n",
    "startTime = time.time()\n",
    "while n < testUpTo:\n",
    "    gradeSchoolMultiplication(a,b)\n",
    "    n = n + 1\n",
    "gradeSchoolTime = time.time() - startTime\n",
    "\n",
    "print(\"   Karatsuba time: \", karatsubaTime/1)\n",
    "print(\"Grade school time: \", gradeSchoolTime/1)"
   ]
  },
  {
   "cell_type": "code",
   "execution_count": null,
   "metadata": {},
   "outputs": [],
   "source": []
  }
 ],
 "metadata": {
  "kernelspec": {
   "display_name": "Python 3",
   "language": "python",
   "name": "python3"
  },
  "language_info": {
   "codemirror_mode": {
    "name": "ipython",
    "version": 3
   },
   "file_extension": ".py",
   "mimetype": "text/x-python",
   "name": "python",
   "nbconvert_exporter": "python",
   "pygments_lexer": "ipython3",
   "version": "3.7.7"
  }
 },
 "nbformat": 4,
 "nbformat_minor": 4
}
