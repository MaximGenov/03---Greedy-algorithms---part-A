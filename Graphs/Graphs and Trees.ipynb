{
 "cells": [
  {
   "cell_type": "markdown",
   "metadata": {},
   "source": [
    "# Graphs\n",
    "\n",
    "<img src=\"graphs.png\" width=300 />\n",
    "\n",
    "Set of nodes: \\\\(V = \\{ a, b, c, d, e, f, g, h \\}\\\\)\n",
    "\n",
    "Edge between nodes: \\\\(ab\\\\), an edge incident on nodes \\\\(a\\\\) and \\\\(b\\\\), with direction from \\\\(a\\\\) to \\\\(b\\\\).\n",
    "\n",
    "Set of all edges: \\\\[ E = \\{ ab, ad, ac, ae, af, bc, be, cd,  de, ef, fc, fg, fh, gf, gh, hf, hg\\}\\\\]\n",
    "\n",
    "Graph \\\\(G = (V, E)\\\\)"
   ]
  },
  {
   "cell_type": "markdown",
   "metadata": {},
   "source": [
    "## Adjacency set representation\n",
    "Use Python's lists and sets"
   ]
  },
  {
   "cell_type": "code",
   "execution_count": null,
   "metadata": {},
   "outputs": [],
   "source": [
    "a, b, c, d, e, f, g, h = range(8)\n",
    "\n",
    "N = [\n",
    "    {b, c, d, e, f},   # nodes connected to node a\n",
    "    {c, e},            # nodes connected to node b\n",
    "    {d},               # nodes connected to node c\n",
    "    {e},               # nodes connected to node d\n",
    "    {f},               # nodes connected to node e\n",
    "    {c, g, h},         # nodes connected to node f\n",
    "    {f, h},            # nodes connected to node g\n",
    "    {f, g}             # nodes connected to node h\n",
    "]"
   ]
  },
  {
   "cell_type": "code",
   "execution_count": null,
   "metadata": {},
   "outputs": [],
   "source": [
    "print(\"Is node b in the neighborhood of node a?\", b in N[a])"
   ]
  },
  {
   "cell_type": "code",
   "execution_count": null,
   "metadata": {},
   "outputs": [],
   "source": [
    "print(\"What is the degree of the neighborhood of node f?\", len(N[f]))"
   ]
  },
  {
   "cell_type": "markdown",
   "metadata": {},
   "source": [
    "## Adjacency list representation\n",
    "A list of lists."
   ]
  },
  {
   "cell_type": "code",
   "execution_count": null,
   "metadata": {},
   "outputs": [],
   "source": [
    "a, b, c, d, e, f, g, h = range(8)\n",
    "\n",
    "N = [\n",
    "    [b, c, d, e, f],   # nodes connected to node a\n",
    "    [c, e],            # nodes connected to node b\n",
    "    [d],               # nodes connected to node c\n",
    "    [e],               # nodes connected to node d\n",
    "    [f],               # nodes connected to node e\n",
    "    [c, g, h],         # nodes connected to node f\n",
    "    [f, h],            # nodes connected to node g\n",
    "    [f, g]             # nodes connected to node h\n",
    "]"
   ]
  },
  {
   "cell_type": "code",
   "execution_count": null,
   "metadata": {},
   "outputs": [],
   "source": [
    "print(\"Is node b in the neighborhood of node a?\", b in N[a])"
   ]
  },
  {
   "cell_type": "code",
   "execution_count": null,
   "metadata": {},
   "outputs": [],
   "source": [
    "print(\"What is the degree of the neighborhood of node f?\", len(N[f]))"
   ]
  },
  {
   "cell_type": "markdown",
   "metadata": {},
   "source": [
    "## Adjancency matrix\n",
    "Verbose but promising\n"
   ]
  },
  {
   "cell_type": "code",
   "execution_count": null,
   "metadata": {},
   "outputs": [],
   "source": [
    "#    a  b  c  d  e  f  g  h\n",
    "M = [\n",
    "    [0, 1, 1, 1, 1, 1, 0, 0],  # a\n",
    "    [0, 1, 1, 0, 1, 0, 0, 0],  # b\n",
    "    [0, 0, 0, 1, 0, 0, 0, 0],  # c\n",
    "    [0, 0, 0, 0, 1, 0, 0, 1],  # d\n",
    "    [0, 0, 0, 0, 0, 1, 0, 0],  # e\n",
    "    [0, 0, 1, 0, 0, 0, 1, 1],  # f\n",
    "    [0, 0, 0, 0, 0, 1, 0, 1],  # g\n",
    "    [0, 0, 0, 0, 0, 1, 1, 0]   # h\n",
    "]"
   ]
  },
  {
   "cell_type": "code",
   "execution_count": null,
   "metadata": {},
   "outputs": [],
   "source": [
    "print(\"Is node b in the neighborhood of node a?\", (1 == M[a][b]))"
   ]
  },
  {
   "cell_type": "code",
   "execution_count": null,
   "metadata": {},
   "outputs": [],
   "source": [
    "print(\"What is the degree of the neighborhood of node f?\", sum(M[f]))"
   ]
  },
  {
   "cell_type": "code",
   "execution_count": null,
   "metadata": {},
   "outputs": [],
   "source": [
    "_ = float('inf') # infinity variable\n",
    "\n",
    "\n",
    "#    a  b  c  d  e  f  g  h\n",
    "W = [\n",
    "    [_, 1, 1, 1, 1, 1, _, _],  # a\n",
    "    [_, 1, 1, _, 1, _, _, _],  # b\n",
    "    [_, _, _, 1, _, _, _, _],  # c\n",
    "    [_, _, _, _, 1, _, _, 1],  # d\n",
    "    [_, _, _, _, _, 1, _, _],  # e\n",
    "    [_, _, 1, _, _, _, 1, 1],  # f\n",
    "    [_, _, _, _, _, 1, _, 1],  # g\n",
    "    [_, _, _, _, _, 1, 1, _]   # h\n",
    "]"
   ]
  },
  {
   "cell_type": "markdown",
   "metadata": {},
   "source": [
    "## Binary tree"
   ]
  },
  {
   "cell_type": "code",
   "execution_count": null,
   "metadata": {},
   "outputs": [],
   "source": [
    "# Python stuff                        # Java stuff\n",
    "                                      # public class Tree {\n",
    "class Tree:                           #   Node node;\n",
    "                                      #   class Node {\n",
    "                                      #     String value;\n",
    "                                      #     Node left, right;\n",
    "                                      #   \n",
    "    def __init__(self, left, right):  #     public Node(Node left, Node right) {\n",
    "        self.left = left              #       this.left = left;\n",
    "        self.right = right            #       this.right = right;\n",
    "                                      #     }\n",
    "                                      #   }\n",
    "                                      # ..."
   ]
  },
  {
   "cell_type": "code",
   "execution_count": null,
   "metadata": {},
   "outputs": [],
   "source": [
    "t = Tree(Tree(\"a\",\"b\"),Tree(\"c\",\"d\"))"
   ]
  },
  {
   "cell_type": "code",
   "execution_count": null,
   "metadata": {},
   "outputs": [],
   "source": [
    "t.right.left"
   ]
  }
 ],
 "metadata": {
  "kernelspec": {
   "display_name": "Python 3",
   "language": "python",
   "name": "python3"
  },
  "language_info": {
   "codemirror_mode": {
    "name": "ipython",
    "version": 3
   },
   "file_extension": ".py",
   "mimetype": "text/x-python",
   "name": "python",
   "nbconvert_exporter": "python",
   "pygments_lexer": "ipython3",
   "version": "3.7.7"
  }
 },
 "nbformat": 4,
 "nbformat_minor": 4
}
